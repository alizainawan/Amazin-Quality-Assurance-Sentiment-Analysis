{
 "cells": [
  {
   "cell_type": "markdown",
   "id": "6e4b7cd4",
   "metadata": {},
   "source": [
    "# Load Libraries"
   ]
  },
  {
   "cell_type": "code",
   "execution_count": 1,
   "id": "859267d6",
   "metadata": {},
   "outputs": [],
   "source": [
    "import pandas as pd\n",
    "import matplotlib.pyplot as plt\n",
    "import seaborn as sns\n",
    "from sklearn.model_selection import train_test_split\n",
    "import numpy as np\n",
    "import re\n",
    "from tabulate import tabulate\n",
    "from sklearn.feature_extraction.text import CountVectorizer\n",
    "from sklearn.naive_bayes import BernoulliNB\n",
    "from sklearn import tree\n",
    "from sklearn.metrics import classification_report, confusion_matrix,accuracy_score, plot_confusion_matrix, precision_score, recall_score,r2_score, mean_squared_error, f1_score\n",
    "from sklearn.model_selection import cross_val_score"
   ]
  },
  {
   "cell_type": "markdown",
   "id": "06478524",
   "metadata": {},
   "source": [
    "**Load Data Set**"
   ]
  },
  {
   "cell_type": "code",
   "execution_count": 2,
   "id": "7ee796ce",
   "metadata": {},
   "outputs": [
    {
     "data": {
      "text/html": [
       "<div>\n",
       "<style scoped>\n",
       "    .dataframe tbody tr th:only-of-type {\n",
       "        vertical-align: middle;\n",
       "    }\n",
       "\n",
       "    .dataframe tbody tr th {\n",
       "        vertical-align: top;\n",
       "    }\n",
       "\n",
       "    .dataframe thead th {\n",
       "        text-align: right;\n",
       "    }\n",
       "</style>\n",
       "<table border=\"1\" class=\"dataframe\">\n",
       "  <thead>\n",
       "    <tr style=\"text-align: right;\">\n",
       "      <th></th>\n",
       "      <th>text</th>\n",
       "      <th>targe</th>\n",
       "    </tr>\n",
       "  </thead>\n",
       "  <tbody>\n",
       "    <tr>\n",
       "      <th>0</th>\n",
       "      <td>بين أستوديوهات ورزازات وصحراء مرزوكة وآثار ولي...</td>\n",
       "      <td>0</td>\n",
       "    </tr>\n",
       "    <tr>\n",
       "      <th>1</th>\n",
       "      <td>قررت النجمة الأمريكية أوبرا وينفري ألا يقتصر ع...</td>\n",
       "      <td>0</td>\n",
       "    </tr>\n",
       "    <tr>\n",
       "      <th>2</th>\n",
       "      <td>أخبارنا المغربية الوزاني تصوير الشملالي ألهب ا...</td>\n",
       "      <td>0</td>\n",
       "    </tr>\n",
       "    <tr>\n",
       "      <th>3</th>\n",
       "      <td>اخبارنا المغربية قال ابراهيم الراشدي محامي سعد...</td>\n",
       "      <td>0</td>\n",
       "    </tr>\n",
       "    <tr>\n",
       "      <th>4</th>\n",
       "      <td>تزال صناعة الجلود في المغرب تتبع الطريقة التقل...</td>\n",
       "      <td>0</td>\n",
       "    </tr>\n",
       "    <tr>\n",
       "      <th>...</th>\n",
       "      <td>...</td>\n",
       "      <td>...</td>\n",
       "    </tr>\n",
       "    <tr>\n",
       "      <th>111723</th>\n",
       "      <td>اللاعب تأخر في العودة إلى التداريب والمدرب غاض...</td>\n",
       "      <td>4</td>\n",
       "    </tr>\n",
       "    <tr>\n",
       "      <th>111724</th>\n",
       "      <td>المشرف العام لحسنية أكادير قال إنه سيغادر الفر...</td>\n",
       "      <td>4</td>\n",
       "    </tr>\n",
       "    <tr>\n",
       "      <th>111725</th>\n",
       "      <td>نسب إليه نتائج الوداد وصحوة الرجاء وآخر صيحاته...</td>\n",
       "      <td>4</td>\n",
       "    </tr>\n",
       "    <tr>\n",
       "      <th>111726</th>\n",
       "      <td>ستحتضن الرباط في الفترة مابين يوليوز المقبل دو...</td>\n",
       "      <td>4</td>\n",
       "    </tr>\n",
       "    <tr>\n",
       "      <th>111727</th>\n",
       "      <td>رضخ أحمد أهمو رئيس أمل تيزنيت لكرة القدم لضغوط...</td>\n",
       "      <td>4</td>\n",
       "    </tr>\n",
       "  </tbody>\n",
       "</table>\n",
       "<p>111728 rows × 2 columns</p>\n",
       "</div>"
      ],
      "text/plain": [
       "                                                     text  targe\n",
       "0       بين أستوديوهات ورزازات وصحراء مرزوكة وآثار ولي...      0\n",
       "1       قررت النجمة الأمريكية أوبرا وينفري ألا يقتصر ع...      0\n",
       "2       أخبارنا المغربية الوزاني تصوير الشملالي ألهب ا...      0\n",
       "3       اخبارنا المغربية قال ابراهيم الراشدي محامي سعد...      0\n",
       "4       تزال صناعة الجلود في المغرب تتبع الطريقة التقل...      0\n",
       "...                                                   ...    ...\n",
       "111723  اللاعب تأخر في العودة إلى التداريب والمدرب غاض...      4\n",
       "111724  المشرف العام لحسنية أكادير قال إنه سيغادر الفر...      4\n",
       "111725  نسب إليه نتائج الوداد وصحوة الرجاء وآخر صيحاته...      4\n",
       "111726  ستحتضن الرباط في الفترة مابين يوليوز المقبل دو...      4\n",
       "111727  رضخ أحمد أهمو رئيس أمل تيزنيت لكرة القدم لضغوط...      4\n",
       "\n",
       "[111728 rows x 2 columns]"
      ]
     },
     "execution_count": 2,
     "metadata": {},
     "output_type": "execute_result"
    }
   ],
   "source": [
    "df=pd.read_csv(\"arabic_dataset_classifiction.csv\")\n",
    "df"
   ]
  },
  {
   "cell_type": "markdown",
   "id": "21a4eb24",
   "metadata": {},
   "source": [
    "# Data Preprocessing"
   ]
  },
  {
   "cell_type": "markdown",
   "id": "573da010",
   "metadata": {},
   "source": [
    "**Stop Words**"
   ]
  },
  {
   "cell_type": "code",
   "execution_count": 6,
   "id": "15fb3cb3",
   "metadata": {},
   "outputs": [
    {
     "data": {
      "text/plain": [
       "'إذ, إذا, إذما, إذن, أف, أقل, أكثر, ألا, إلا, التي, الذي, الذين, اللاتي, اللائي, اللتان, اللتيا, اللتين, اللذان, اللذين, اللواتي, إلى, إليك, إليكم, إليكما, إليكن, أم, أما, أما, إما, أن, إن, إنا, أنا, أنت, أنتم, أنتما, أنتن, إنما, إنه, أنى, أنى, آه, آها, أو, أولاء, أولئك, أوه, آي, أي, أيها, إي, أين, أين, أينما, إيه, بخ, بس, بعد, بعض, بك, بكم, بكم, بكما, بكن, بل, بلى, بما, بماذا, بمن, بنا, به, بها, بهم, بهما, بهن, بي, بين, بيد, تلك, تلكم, تلكما, ته, تي, تين, تينك, ثم, ثمة, حاشا, حبذا, حتى, حيث, حيثما, حين, خلا, دون, ذا, ذات, ذاك, ذان, ذانك, ذلك, ذلكم, ذلكما, ذلكن, ذه, ذو, ذوا, ذواتا, ذواتي, ذي, ذين, ذينك, ريث, سوف, سوى, شتان, عدا, عسى, عل, على, عليك, عليه, عما, عن, عند, غير, فإذا, فإن, فلا, فمن, في, فيم, فيما, فيه, فيها, قد, كأن, كأنما, كأي, كأين, كذا, كذلك, كل, كلا, كلاهما, كلتا, كلما, كليكما, كليهما, كم, كم, كما, كي, كيت, كيف, كيفما, لا, لاسيما, لدى, لست, لستم, لستما, لستن, لسن, لسنا, لعل, لك, لكم, لكما, لكن, لكنما, لكي, لكيلا, لم, لما, لن, لنا, له, لها, لهم, لهما, لهن, لو, لولا, لوما, لي, لئن, ليت, ليس, ليسا, ليست, ليستا, ليسوا, ما, ماذا, متى, مذ, مع, مما, ممن, من, منه, منها, منذ, مه, مهما, نحن, نحو, نعم, ها, هاتان, هاته, هاتي, هاتين, هاك, هاهنا, هذا, هذان, هذه, هذي, هذين, هكذا, هل, هلا, هم, هما, هن, هنا, هناك, هنالك, هو, هؤلاء, هي, هيا, هيت, هيهات, والذي, والذين, وإذ, وإذا, وإن, ولا, ولكن, ولو, وما, ومن, وهو, يا, أبٌ, أخٌ, حمٌ, فو, أنتِ, يناير, فبراير, مارس, أبريل, مايو, يونيو, يوليو, أغسطس, سبتمبر, أكتوبر, نوفمبر, ديسمبر, جانفي, فيفري, مارس, أفريل, ماي, جوان, جويلية, أوت, كانون, شباط, آذار, نيسان, أيار, حزيران, تموز, آب, أيلول, تشرين, دولار, دينار, ريال, درهم, ليرة, جنيه, قرش, مليم, فلس, هللة, سنتيم, يورو, ين, يوان, شيكل, واحد, اثنان, ثلاثة, أربعة, خمسة, ستة, سبعة, ثمانية, تسعة, عشرة, أحد, اثنا, اثني, إحدى, ثلاث, أربع, خمس, ست, سبع, ثماني, تسع, عشر, ثمان, سبت, أحد, اثنين, ثلاثاء, أربعاء, خميس, جمعة, أول, ثان, ثاني, ثالث, رابع, خامس, سادس, سابع, ثامن, تاسع, عاشر, حادي, أ, ب, ت, ث, ج, ح, خ, د, ذ, ر, ز, س, ش, ص, ض, ط, ظ, ع, غ, ف, ق, ك, ل, م, ن, ه, و, ي, ء, ى, آ, ؤ, ئ, أ, ة, ألف, باء, تاء, ثاء, جيم, حاء, خاء, دال, ذال, راء, زاي, سين, شين, صاد, ضاد, طاء, ظاء, عين, غين, فاء, قاف, كاف, لام, ميم, نون, هاء, واو, ياء, همزة, ي, نا, ك, كن, ه, إياه, إياها, إياهما, إياهم, إياهن, إياك, إياكما, إياكم, إياك, إياكن, إياي, إيانا, أولالك, تانِ, تانِك, تِه, تِي, تَيْنِ, ثمّ, ثمّة, ذانِ, ذِه, ذِي, ذَيْنِ, هَؤلاء, هَاتانِ, هَاتِه, هَاتِي, هَاتَيْنِ, هَذا, هَذانِ, هَذِه, هَذِي, هَذَيْنِ, الألى, الألاء, أل, أنّى, أيّ, ّأيّان, أنّى, أيّ, ّأيّان, ذيت, كأيّ, كأيّن, بضع, فلان, وا, آمينَ, آهِ, آهٍ, آهاً, أُفٍّ, أُفٍّ, أفٍّ, أمامك, أمامكَ, أوّهْ, إلَيْكَ, إلَيْكَ, إليكَ, إليكنّ, إيهٍ, بخٍ, بسّ, بَسْ, بطآن, بَلْهَ, حاي, حَذارِ, حيَّ, حيَّ, دونك, رويدك, سرعان, شتانَ, شَتَّانَ, صهْ, صهٍ, طاق, طَق, عَدَسْ, كِخ, مكانَك, مكانَك, مكانَك, مكانكم, مكانكما, مكانكنّ, نَخْ, هاكَ, هَجْ, هلم, هيّا, هَيْهات, وا, واهاً, وراءَك, وُشْكَانَ, وَيْ, يفعلان, تفعلان, يفعلون, تفعلون, تفعلين, اتخذ, ألفى, تخذ, ترك, تعلَّم, جعل, حجا, حبيب, خال, حسب, خال, درى, رأى, زعم, صبر, ظنَّ, عدَّ, علم, غادر, ذهب, وجد, ورد, وهب, أسكن, أطعم, أعطى, رزق, زود, سقى, كسا, أخبر, أرى, أعلم, أنبأ, حدَث, خبَّر, نبَّا, أفعل به, ما أفعله, بئس, ساء, طالما, قلما, لات, لكنَّ, ءَ, أجل, إذاً, أمّا, إمّا, إنَّ, أنًّ, أى, إى, أيا, ب, ثمَّ, جلل, جير, رُبَّ, س, علًّ, ف, كأنّ, كلَّا, كى, ل, لات, لعلَّ, لكنَّ, لكنَّ, م, نَّ, هلّا, وا, أل, إلّا, ت, ك, لمّا, ن, ه, و, ا, ي, تجاه, تلقاء, جميع, حسب, سبحان, شبه, لعمر, مثل, معاذ, أبو, أخو, حمو, فو, مئة, مئتان, ثلاثمئة, أربعمئة, خمسمئة, ستمئة, سبعمئة, ثمنمئة, تسعمئة, مائة, ثلاثمائة, أربعمائة, خمسمائة, ستمائة, سبعمائة, ثمانمئة, تسعمائة, عشرون, ثلاثون, اربعون, خمسون, ستون, سبعون, ثمانون, تسعون, عشرين, ثلاثين, اربعين, خمسين, ستين, سبعين, ثمانين, تسعين, بضع, نيف, أجمع, جميع, عامة, عين, نفس, لا سيما, أصلا, أهلا, أيضا, بؤسا, بعدا, بغتة, تعسا, حقا, حمدا, خلافا, خاصة, دواليك, سحقا, سرا, سمعا, صبرا, صدقا, صراحة, طرا, عجبا, عيانا, غالبا, فرادى, فضلا, قاطبة, كثيرا, لبيك, معاذ, أبدا, إزاء, أصلا, الآن, أمد, أمس, آنفا, آناء, أنّى, أول, أيّان, تارة, ثمّ, ثمّة, حقا, صباح, مساء, ضحوة, عوض, غدا, غداة, قطّ, كلّما, لدن, لمّا, مرّة, قبل, خلف, أمام, فوق, تحت, يمين, شمال, ارتدّ, استحال, أصبح, أضحى, آض, أمسى, انقلب, بات, تبدّل, تحوّل, حار, رجع, راح, صار, ظلّ, عاد, غدا, كان, ما انفك, ما برح, مادام, مازال, مافتئ, ابتدأ, أخذ, اخلولق, أقبل, انبرى, أنشأ, أوشك, جعل, حرى, شرع, طفق, علق, قام, كرب, كاد, هبّ'"
      ]
     },
     "execution_count": 6,
     "metadata": {},
     "output_type": "execute_result"
    }
   ],
   "source": [
    "from nltk.corpus import stopwords\n",
    "\", \".join(stopwords.words('arabic'))"
   ]
  },
  {
   "cell_type": "markdown",
   "id": "47e50ecf",
   "metadata": {},
   "source": [
    "**Remove Stopwords**"
   ]
  },
  {
   "cell_type": "code",
   "execution_count": 7,
   "id": "a90a65b6",
   "metadata": {},
   "outputs": [
    {
     "data": {
      "text/html": [
       "<div>\n",
       "<style scoped>\n",
       "    .dataframe tbody tr th:only-of-type {\n",
       "        vertical-align: middle;\n",
       "    }\n",
       "\n",
       "    .dataframe tbody tr th {\n",
       "        vertical-align: top;\n",
       "    }\n",
       "\n",
       "    .dataframe thead th {\n",
       "        text-align: right;\n",
       "    }\n",
       "</style>\n",
       "<table border=\"1\" class=\"dataframe\">\n",
       "  <thead>\n",
       "    <tr style=\"text-align: right;\">\n",
       "      <th></th>\n",
       "      <th>text</th>\n",
       "      <th>targe</th>\n",
       "    </tr>\n",
       "  </thead>\n",
       "  <tbody>\n",
       "    <tr>\n",
       "      <th>0</th>\n",
       "      <td>أستوديوهات ورزازات وصحراء مرزوكة وآثار وليلي ا...</td>\n",
       "      <td>0</td>\n",
       "    </tr>\n",
       "    <tr>\n",
       "      <th>1</th>\n",
       "      <td>قررت النجمة الأمريكية أوبرا وينفري يقتصر عملها...</td>\n",
       "      <td>0</td>\n",
       "    </tr>\n",
       "    <tr>\n",
       "      <th>2</th>\n",
       "      <td>أخبارنا المغربية الوزاني تصوير الشملالي ألهب ا...</td>\n",
       "      <td>0</td>\n",
       "    </tr>\n",
       "    <tr>\n",
       "      <th>3</th>\n",
       "      <td>اخبارنا المغربية قال ابراهيم الراشدي محامي سعد...</td>\n",
       "      <td>0</td>\n",
       "    </tr>\n",
       "    <tr>\n",
       "      <th>4</th>\n",
       "      <td>تزال صناعة الجلود المغرب تتبع الطريقة التقليدي...</td>\n",
       "      <td>0</td>\n",
       "    </tr>\n",
       "  </tbody>\n",
       "</table>\n",
       "</div>"
      ],
      "text/plain": [
       "                                                text  targe\n",
       "0  أستوديوهات ورزازات وصحراء مرزوكة وآثار وليلي ا...      0\n",
       "1  قررت النجمة الأمريكية أوبرا وينفري يقتصر عملها...      0\n",
       "2  أخبارنا المغربية الوزاني تصوير الشملالي ألهب ا...      0\n",
       "3  اخبارنا المغربية قال ابراهيم الراشدي محامي سعد...      0\n",
       "4  تزال صناعة الجلود المغرب تتبع الطريقة التقليدي...      0"
      ]
     },
     "execution_count": 7,
     "metadata": {},
     "output_type": "execute_result"
    }
   ],
   "source": [
    "STOPWORDS = set(stopwords.words('arabic'))\n",
    "def remove_stopwords(text):\n",
    "    \"\"\"custom function to remove the stopwords\"\"\"\n",
    "    return \" \".join([word for word in str(text).split() if word not in STOPWORDS])\n",
    "\n",
    "df['text'] =df['text'].apply(lambda text: remove_stopwords(text))\n",
    "df.head()"
   ]
  },
  {
   "cell_type": "markdown",
   "id": "f31e7b4a",
   "metadata": {},
   "source": [
    "**Count Common Words**"
   ]
  },
  {
   "cell_type": "code",
   "execution_count": 8,
   "id": "f6f25a4a",
   "metadata": {},
   "outputs": [
    {
     "data": {
      "text/plain": [
       "[('خلال', 79236),\n",
       " ('المغرب', 78382),\n",
       " ('الفريق', 71327),\n",
       " ('أنه', 65655),\n",
       " ('المغربية', 61299),\n",
       " ('الوطني', 52323),\n",
       " ('محمد', 46128),\n",
       " ('الماضي', 43400),\n",
       " ('الرياضي', 42982),\n",
       " ('عبد', 42146)]"
      ]
     },
     "execution_count": 8,
     "metadata": {},
     "output_type": "execute_result"
    }
   ],
   "source": [
    "from collections import Counter\n",
    "cnt = Counter()\n",
    "for text in df['text'].values:\n",
    "    for word in text.split():\n",
    "        cnt[word] += 1\n",
    "        \n",
    "cnt.most_common(10)"
   ]
  },
  {
   "cell_type": "markdown",
   "id": "665b67cb",
   "metadata": {},
   "source": [
    "**Remove Freqwords**"
   ]
  },
  {
   "cell_type": "code",
   "execution_count": 9,
   "id": "69eefcbc",
   "metadata": {},
   "outputs": [
    {
     "data": {
      "text/html": [
       "<div>\n",
       "<style scoped>\n",
       "    .dataframe tbody tr th:only-of-type {\n",
       "        vertical-align: middle;\n",
       "    }\n",
       "\n",
       "    .dataframe tbody tr th {\n",
       "        vertical-align: top;\n",
       "    }\n",
       "\n",
       "    .dataframe thead th {\n",
       "        text-align: right;\n",
       "    }\n",
       "</style>\n",
       "<table border=\"1\" class=\"dataframe\">\n",
       "  <thead>\n",
       "    <tr style=\"text-align: right;\">\n",
       "      <th></th>\n",
       "      <th>text</th>\n",
       "      <th>targe</th>\n",
       "    </tr>\n",
       "  </thead>\n",
       "  <tbody>\n",
       "    <tr>\n",
       "      <th>0</th>\n",
       "      <td>أستوديوهات ورزازات وصحراء مرزوكة وآثار وليلي ا...</td>\n",
       "      <td>0</td>\n",
       "    </tr>\n",
       "    <tr>\n",
       "      <th>1</th>\n",
       "      <td>قررت النجمة الأمريكية أوبرا وينفري يقتصر عملها...</td>\n",
       "      <td>0</td>\n",
       "    </tr>\n",
       "    <tr>\n",
       "      <th>2</th>\n",
       "      <td>أخبارنا الوزاني تصوير الشملالي ألهب النجم المغ...</td>\n",
       "      <td>0</td>\n",
       "    </tr>\n",
       "    <tr>\n",
       "      <th>3</th>\n",
       "      <td>اخبارنا قال ابراهيم الراشدي محامي سعد المجرد ا...</td>\n",
       "      <td>0</td>\n",
       "    </tr>\n",
       "    <tr>\n",
       "      <th>4</th>\n",
       "      <td>تزال صناعة الجلود تتبع الطريقة التقليدية واليد...</td>\n",
       "      <td>0</td>\n",
       "    </tr>\n",
       "  </tbody>\n",
       "</table>\n",
       "</div>"
      ],
      "text/plain": [
       "                                                text  targe\n",
       "0  أستوديوهات ورزازات وصحراء مرزوكة وآثار وليلي ا...      0\n",
       "1  قررت النجمة الأمريكية أوبرا وينفري يقتصر عملها...      0\n",
       "2  أخبارنا الوزاني تصوير الشملالي ألهب النجم المغ...      0\n",
       "3  اخبارنا قال ابراهيم الراشدي محامي سعد المجرد ا...      0\n",
       "4  تزال صناعة الجلود تتبع الطريقة التقليدية واليد...      0"
      ]
     },
     "execution_count": 9,
     "metadata": {},
     "output_type": "execute_result"
    }
   ],
   "source": [
    "FREQWORDS = set([w for (w, wc) in cnt.most_common(10)])\n",
    "def remove_freqwords(text):\n",
    "    \"\"\"custom function to remove the frequent words\"\"\"\n",
    "    return \" \".join([word for word in str(text).split() if word not in FREQWORDS])\n",
    "\n",
    "df['text'] =df['text'].apply(lambda text: remove_freqwords(text))\n",
    "df.head()"
   ]
  },
  {
   "cell_type": "markdown",
   "id": "cd1dd152",
   "metadata": {},
   "source": [
    "**Remove Rarewords**"
   ]
  },
  {
   "cell_type": "code",
   "execution_count": 10,
   "id": "735f574d",
   "metadata": {},
   "outputs": [
    {
     "data": {
      "text/html": [
       "<div>\n",
       "<style scoped>\n",
       "    .dataframe tbody tr th:only-of-type {\n",
       "        vertical-align: middle;\n",
       "    }\n",
       "\n",
       "    .dataframe tbody tr th {\n",
       "        vertical-align: top;\n",
       "    }\n",
       "\n",
       "    .dataframe thead th {\n",
       "        text-align: right;\n",
       "    }\n",
       "</style>\n",
       "<table border=\"1\" class=\"dataframe\">\n",
       "  <thead>\n",
       "    <tr style=\"text-align: right;\">\n",
       "      <th></th>\n",
       "      <th>text</th>\n",
       "      <th>targe</th>\n",
       "    </tr>\n",
       "  </thead>\n",
       "  <tbody>\n",
       "    <tr>\n",
       "      <th>0</th>\n",
       "      <td>أستوديوهات ورزازات وصحراء مرزوكة وآثار وليلي ا...</td>\n",
       "      <td>0</td>\n",
       "    </tr>\n",
       "    <tr>\n",
       "      <th>1</th>\n",
       "      <td>قررت النجمة الأمريكية أوبرا وينفري يقتصر عملها...</td>\n",
       "      <td>0</td>\n",
       "    </tr>\n",
       "    <tr>\n",
       "      <th>2</th>\n",
       "      <td>أخبارنا الوزاني تصوير الشملالي ألهب النجم المغ...</td>\n",
       "      <td>0</td>\n",
       "    </tr>\n",
       "    <tr>\n",
       "      <th>3</th>\n",
       "      <td>اخبارنا قال ابراهيم الراشدي محامي سعد المجرد ا...</td>\n",
       "      <td>0</td>\n",
       "    </tr>\n",
       "    <tr>\n",
       "      <th>4</th>\n",
       "      <td>تزال صناعة الجلود تتبع الطريقة التقليدية واليد...</td>\n",
       "      <td>0</td>\n",
       "    </tr>\n",
       "  </tbody>\n",
       "</table>\n",
       "</div>"
      ],
      "text/plain": [
       "                                                text  targe\n",
       "0  أستوديوهات ورزازات وصحراء مرزوكة وآثار وليلي ا...      0\n",
       "1  قررت النجمة الأمريكية أوبرا وينفري يقتصر عملها...      0\n",
       "2  أخبارنا الوزاني تصوير الشملالي ألهب النجم المغ...      0\n",
       "3  اخبارنا قال ابراهيم الراشدي محامي سعد المجرد ا...      0\n",
       "4  تزال صناعة الجلود تتبع الطريقة التقليدية واليد...      0"
      ]
     },
     "execution_count": 10,
     "metadata": {},
     "output_type": "execute_result"
    }
   ],
   "source": [
    "n_rare_words = 10\n",
    "RAREWORDS = set([w for (w, wc) in cnt.most_common()[:-n_rare_words-1:-1]])\n",
    "def remove_rarewords(text):\n",
    "    \"\"\"custom function to remove the rare words\"\"\"\n",
    "    return \" \".join([word for word in str(text).split() if word not in RAREWORDS])\n",
    "\n",
    "df['text'] =df['text'].apply(lambda text: remove_rarewords(text))\n",
    "df.head()"
   ]
  },
  {
   "cell_type": "markdown",
   "id": "ca8183f8",
   "metadata": {},
   "source": [
    "**Remove Urls and Htmls**"
   ]
  },
  {
   "cell_type": "code",
   "execution_count": 11,
   "id": "0e547988",
   "metadata": {},
   "outputs": [
    {
     "data": {
      "text/html": [
       "<div>\n",
       "<style scoped>\n",
       "    .dataframe tbody tr th:only-of-type {\n",
       "        vertical-align: middle;\n",
       "    }\n",
       "\n",
       "    .dataframe tbody tr th {\n",
       "        vertical-align: top;\n",
       "    }\n",
       "\n",
       "    .dataframe thead th {\n",
       "        text-align: right;\n",
       "    }\n",
       "</style>\n",
       "<table border=\"1\" class=\"dataframe\">\n",
       "  <thead>\n",
       "    <tr style=\"text-align: right;\">\n",
       "      <th></th>\n",
       "      <th>text</th>\n",
       "      <th>targe</th>\n",
       "    </tr>\n",
       "  </thead>\n",
       "  <tbody>\n",
       "    <tr>\n",
       "      <th>0</th>\n",
       "      <td>أستوديوهات ورزازات وصحراء مرزوكة وآثار وليلي ا...</td>\n",
       "      <td>0</td>\n",
       "    </tr>\n",
       "    <tr>\n",
       "      <th>1</th>\n",
       "      <td>قررت النجمة الأمريكية أوبرا وينفري يقتصر عملها...</td>\n",
       "      <td>0</td>\n",
       "    </tr>\n",
       "    <tr>\n",
       "      <th>2</th>\n",
       "      <td>أخبارنا الوزاني تصوير الشملالي ألهب النجم المغ...</td>\n",
       "      <td>0</td>\n",
       "    </tr>\n",
       "    <tr>\n",
       "      <th>3</th>\n",
       "      <td>اخبارنا قال ابراهيم الراشدي محامي سعد المجرد ا...</td>\n",
       "      <td>0</td>\n",
       "    </tr>\n",
       "    <tr>\n",
       "      <th>4</th>\n",
       "      <td>تزال صناعة الجلود تتبع الطريقة التقليدية واليد...</td>\n",
       "      <td>0</td>\n",
       "    </tr>\n",
       "  </tbody>\n",
       "</table>\n",
       "</div>"
      ],
      "text/plain": [
       "                                                text  targe\n",
       "0  أستوديوهات ورزازات وصحراء مرزوكة وآثار وليلي ا...      0\n",
       "1  قررت النجمة الأمريكية أوبرا وينفري يقتصر عملها...      0\n",
       "2  أخبارنا الوزاني تصوير الشملالي ألهب النجم المغ...      0\n",
       "3  اخبارنا قال ابراهيم الراشدي محامي سعد المجرد ا...      0\n",
       "4  تزال صناعة الجلود تتبع الطريقة التقليدية واليد...      0"
      ]
     },
     "execution_count": 11,
     "metadata": {},
     "output_type": "execute_result"
    }
   ],
   "source": [
    "\n",
    "def remove_urls(text):\n",
    "    url_pattern = re.compile(r'https?://\\S+|www\\.\\S+')\n",
    "    return url_pattern.sub(r'', text)\n",
    "df['text']= df['text'].apply(lambda text: remove_urls(text))\n",
    "df\n",
    "def remove_html(text):\n",
    "    html_pattern = re.compile('<.*?>')\n",
    "    return html_pattern.sub(r'', text)\n",
    "df['text'] =df['text'].apply(lambda text: remove_html(text))\n",
    "df.head()"
   ]
  },
  {
   "cell_type": "markdown",
   "id": "42c0412b",
   "metadata": {},
   "source": [
    "**Model Evaluation**"
   ]
  },
  {
   "cell_type": "code",
   "execution_count": 12,
   "id": "840d30fd",
   "metadata": {},
   "outputs": [],
   "source": [
    "def modelEvaluation(predictions, y_test_set, model_name):\n",
    "    # Print model evaluation to predicted result    \n",
    "    print(\"==========\",model_name,\"==========\")\n",
    "    print (\"\\nAccuracy on validation set: {:.4f}\".format(accuracy_score(y_test_set, predictions)))    \n",
    "    print (\"\\nClassification report : \\n\", classification_report(y_test_set, predictions))\n",
    "    print (\"\\nConfusion Matrix : \\n\", confusion_matrix(y_test_set, predictions))\n",
    "    plt.figure(figsize=(5,5))\n",
    "    \n",
    "    \n",
    "    sns.heatmap(confusion_matrix(y_test_set, predictions),annot=True, fmt='g',cmap='viridis')\n",
    "    plt.tight_layout()\n",
    "    plt.show()\n",
    "    results = [accuracy_score(y_test_set, predictions), precision_score(y_test_set, predictions, average='macro'),\n",
    "              recall_score(y_test_set, predictions, average='macro'),f1_score(y_test_set, predictions, average='macro')]\n",
    "    return results\n"
   ]
  },
  {
   "cell_type": "markdown",
   "id": "69994e24",
   "metadata": {},
   "source": [
    "**Separate Data Into Features(x) and labels(y)** "
   ]
  },
  {
   "cell_type": "code",
   "execution_count": 4,
   "id": "f5242cec",
   "metadata": {},
   "outputs": [],
   "source": [
    "x=df.iloc[:,0]\n",
    "y=df.iloc[:,1]\n",
    "y=y.replace(np.nan,0)"
   ]
  },
  {
   "cell_type": "markdown",
   "id": "bcb49593",
   "metadata": {},
   "source": [
    "**Split Data Into Train And Test**"
   ]
  },
  {
   "cell_type": "code",
   "execution_count": 13,
   "id": "7343f55b",
   "metadata": {},
   "outputs": [],
   "source": [
    "x_train,x_test,y_train,y_test=train_test_split(x,y,test_size=0.33,random_state=0)"
   ]
  },
  {
   "cell_type": "markdown",
   "id": "61e0e58c",
   "metadata": {},
   "source": [
    "**Apply CountVectorizer Into Traning Data**"
   ]
  },
  {
   "cell_type": "code",
   "execution_count": 14,
   "id": "72a90f48",
   "metadata": {},
   "outputs": [
    {
     "name": "stdout",
     "output_type": "stream",
     "text": [
      "(74857, 353488) (36871, 353488)\n"
     ]
    }
   ],
   "source": [
    "ct=CountVectorizer()\n",
    "x_train=ct.fit_transform(x_train)\n",
    "x_test=ct.transform(x_test)\n",
    "print(x_train.shape,x_test.shape)"
   ]
  },
  {
   "cell_type": "markdown",
   "id": "368a02e0",
   "metadata": {},
   "source": [
    "# Apply Machine Learning Models"
   ]
  },
  {
   "cell_type": "markdown",
   "id": "2a01258d",
   "metadata": {},
   "source": [
    "**Decision Tree Classsifier**"
   ]
  },
  {
   "cell_type": "code",
   "execution_count": 15,
   "id": "9d15990c",
   "metadata": {},
   "outputs": [
    {
     "name": "stdout",
     "output_type": "stream",
     "text": [
      "========== Decision Tree Classifier ==========\n",
      "\n",
      "Accuracy on validation set: 0.8897\n",
      "\n",
      "Classification report : \n",
      "               precision    recall  f1-score   support\n",
      "\n",
      "           0       0.85      0.83      0.84      4531\n",
      "           1       0.90      0.91      0.90      5415\n",
      "           2       0.76      0.78      0.77      4665\n",
      "           3       0.81      0.81      0.81      6888\n",
      "           4       0.97      0.97      0.97     15372\n",
      "\n",
      "    accuracy                           0.89     36871\n",
      "   macro avg       0.86      0.86      0.86     36871\n",
      "weighted avg       0.89      0.89      0.89     36871\n",
      "\n",
      "\n",
      "Confusion Matrix : \n",
      " [[ 3778    90   222   299   142]\n",
      " [   83  4908   128   221    75]\n",
      " [  166    87  3621   687   104]\n",
      " [  233   293   640  5611   111]\n",
      " [  166   100   129    91 14886]]\n"
     ]
    },
    {
     "data": {
      "image/png": "[encoded data removed]",
      "text/plain": [
       "<Figure size 360x360 with 2 Axes>"
      ]
     },
     "metadata": {
      "needs_background": "light"
     },
     "output_type": "display_data"
    }
   ],
   "source": [
    "dt=tree.DecisionTreeClassifier()\n",
    "dt.fit(x_train,y_train)\n",
    "y_pred_dt=dt.predict(x_test)\n",
    "result_dt = modelEvaluation(y_pred_dt, y_test, 'Decision Tree Classifier')"
   ]
  },
  {
   "cell_type": "markdown",
   "id": "1cbfbff7",
   "metadata": {},
   "source": [
    "**Bernoulli Naive-Bayes**"
   ]
  },
  {
   "cell_type": "code",
   "execution_count": 19,
   "id": "012ed8d3",
   "metadata": {},
   "outputs": [
    {
     "name": "stdout",
     "output_type": "stream",
     "text": [
      "========== BernoulliNB ==========\n",
      "\n",
      "Accuracy on validation set: 0.9223\n",
      "\n",
      "Classification report : \n",
      "               precision    recall  f1-score   support\n",
      "\n",
      "           0       0.95      0.82      0.88      4531\n",
      "           1       0.94      0.95      0.94      5415\n",
      "           2       0.89      0.88      0.88      4665\n",
      "           3       0.88      0.86      0.87      6888\n",
      "           4       0.94      0.98      0.96     15372\n",
      "\n",
      "    accuracy                           0.92     36871\n",
      "   macro avg       0.92      0.90      0.91     36871\n",
      "weighted avg       0.92      0.92      0.92     36871\n",
      "\n",
      "\n",
      "Confusion Matrix : \n",
      " [[ 3716    70    99   220   426]\n",
      " [   15  5143    43   163    51]\n",
      " [   33    31  4105   340   156]\n",
      " [   60   187   341  5947   353]\n",
      " [   68    60    41   108 15095]]\n"
     ]
    },
    {
     "data": {
      "image/png": "[encoded data removed]",
      "text/plain": [
       "<Figure size 360x360 with 2 Axes>"
      ]
     },
     "metadata": {
      "needs_background": "light"
     },
     "output_type": "display_data"
    }
   ],
   "source": [
    "nb=BernoulliNB()\n",
    "nb.fit(x_train,y_train)\n",
    "y_pred_nb=nb.predict(x_test)\n",
    "result_nb = modelEvaluation(y_pred_nb, y_test, 'BernoulliNB')"
   ]
  },
  {
   "cell_type": "markdown",
   "id": "fbee26ef",
   "metadata": {},
   "source": [
    "# Comparsion Machine Learning Models"
   ]
  },
  {
   "cell_type": "code",
   "execution_count": 22,
   "id": "f10165e8",
   "metadata": {},
   "outputs": [
    {
     "name": "stdout",
     "output_type": "stream",
     "text": [
      "+-----------+-----------------+---------------+\n",
      "| Metrics   |   Decision tree |   BernoulliNB |\n",
      "|-----------+-----------------+---------------|\n",
      "| accuracy  |        0.889697 |      0.922297 |\n",
      "| precision |        0.859478 |      0.918857 |\n",
      "| recall    |        0.859876 |      0.899044 |\n",
      "| f1-score  |        0.859637 |      0.907808 |\n",
      "+-----------+-----------------+---------------+\n"
     ]
    },
    {
     "data": {
      "image/png": "[encoded data removed]",
      "text/plain": [
       "<Figure size 1080x576 with 1 Axes>"
      ]
     },
     "metadata": {
      "needs_background": "light"
     },
     "output_type": "display_data"
    }
   ],
   "source": [
    "dic = {\n",
    "    'Metrics':['accuracy','precision','recall','f1-score'],\n",
    "    'Decision tree' :result_dt,\n",
    "    'BernoulliNB':result_nb\n",
    "    \n",
    "    \n",
    "}\n",
    "metrics_df = pd.DataFrame(dic)\n",
    "\n",
    "metrics_df = metrics_df.set_index('Metrics')\n",
    "print(tabulate(metrics_df, headers = 'keys', tablefmt = 'psql'))\n",
    "metrics_df.plot(kind='bar', figsize=(15,8))\n",
    "plt.show()"
   ]
  },
  {
   "cell_type": "markdown",
   "id": "9a18a7c9",
   "metadata": {},
   "source": [
    "**Comparsion Machine Learning Models Accuracy Score**"
   ]
  },
  {
   "cell_type": "code",
   "execution_count": 23,
   "id": "1ea9a617",
   "metadata": {},
   "outputs": [
    {
     "data": {
      "image/png": "[encoded data removed]",
      "text/plain": [
       "<Figure size 1080x360 with 1 Axes>"
      ]
     },
     "metadata": {
      "needs_background": "light"
     },
     "output_type": "display_data"
    }
   ],
   "source": [
    "models_acc = metrics_df.iloc[0].tolist()\n",
    "models_names = metrics_df.columns.tolist()\n",
    "plt.figure(figsize=(15,5))\n",
    "plt.bar(models_names,models_acc)\n",
    "plt.title(\"Models Accuracy\", fontsize=18)\n",
    "\n",
    "def addLabels(names,acc):\n",
    "    for i in range(len(names)):\n",
    "        plt.text(i,round(acc[i],2),f\"{round(acc[i],2)}%\", ha = 'center', bbox=dict(facecolor='yellow', alpha=0.9))\n",
    "\n",
    "addLabels(models_names,models_acc)\n",
    "plt.show()"
   ]
  },
  {
   "cell_type": "code",
   "execution_count": null,
   "id": "f01cb8e5",
   "metadata": {},
   "outputs": [],
   "source": []
  }
 ],
 "metadata": {
  "kernelspec": {
   "display_name": "Python 3 (ipykernel)",
   "language": "python",
   "name": "python3"
  },
  "language_info": {
   "codemirror_mode": {
    "name": "ipython",
    "version": 3
   },
   "file_extension": ".py",
   "mimetype": "text/x-python",
   "name": "python",
   "nbconvert_exporter": "python",
   "pygments_lexer": "ipython3",
   "version": "3.9.7"
  }
 },
 "nbformat": 4,
 "nbformat_minor": 5
}
