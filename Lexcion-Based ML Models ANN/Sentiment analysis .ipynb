{
 "cells": [
  {
   "cell_type": "markdown",
   "id": "b2a09b60",
   "metadata": {},
   "source": [
    "# Loading Libraries"
   ]
  },
  {
   "cell_type": "code",
   "execution_count": 2,
   "id": "bd6b6dc2",
   "metadata": {},
   "outputs": [],
   "source": [
    "import pandas as pd\n",
    "import sqlite3\n",
    "import numpy as np\n",
    "from nltk.corpus import stopwords\n",
    "from nltk.stem.porter import PorterStemmer\n",
    "from wordcloud import WordCloud,STOPWORDS\n",
    "from nltk.stem import WordNetLemmatizer\n",
    "from nltk.tokenize import word_tokenize,sent_tokenize\n",
    "from sklearn.feature_extraction.text import CountVectorizer\n",
    "from nltk.tokenize.toktok import ToktokTokenizer\n",
    "from nltk.stem import LancasterStemmer,WordNetLemmatizer\n",
    "from sklearn.naive_bayes import  GaussianNB\n",
    "from sklearn.model_selection import train_test_split\n",
    "from sklearn.metrics import classification_report,confusion_matrix,accuracy_score\n",
    "import nltk\n",
    "import warnings \n",
    "import time\n",
    "warnings.filterwarnings('ignore')\n",
    "from sklearn.model_selection import RepeatedStratifiedKFold\n",
    "from sklearn.preprocessing import PowerTransformer\n",
    "from sklearn.model_selection import GridSearchCV\n",
    "from bs4 import BeautifulSoup\n",
    "import re,string,unicodedata\n",
    "from sklearn.metrics import accuracy_score\n",
    "from sklearn.metrics import precision_score\n",
    "from sklearn.metrics import recall_score\n",
    "from sklearn.metrics import f1_score\n",
    "import seaborn as sns\n",
    "from sklearn.ensemble import RandomForestClassifier\n",
    "from vaderSentiment.vaderSentiment import SentimentIntensityAnalyzer\n",
    "import time\n",
    "import pandas as pd\n",
    "import numpy as np\n",
    "import matplotlib.pyplot as plt\n",
    "import keras\n",
    "from keras.models import Sequential\n",
    "from keras.layers import Convolution2D\n",
    "from keras.layers import MaxPooling2D\n",
    "from keras.layers import Flatten\n",
    "from keras.layers import Dense\n",
    "from tensorflow.keras.utils import to_categorical\n",
    "from keras.wrappers.scikit_learn import KerasClassifier\n",
    "from keras.layers import Dropout\n",
    "from sklearn.metrics import f1_score, roc_auc_score, log_loss\n",
    "from sklearn.model_selection import cross_val_score, cross_validate\n",
    "from sklearn.preprocessing import LabelEncoder"
   ]
  },
  {
   "cell_type": "markdown",
   "id": "c55f7817",
   "metadata": {},
   "source": [
    "**Import data from database**"
   ]
  },
  {
   "cell_type": "code",
   "execution_count": 3,
   "id": "78e79be8",
   "metadata": {},
   "outputs": [
    {
     "data": {
      "text/html": [
       "<div>\n",
       "<style scoped>\n",
       "    .dataframe tbody tr th:only-of-type {\n",
       "        vertical-align: middle;\n",
       "    }\n",
       "\n",
       "    .dataframe tbody tr th {\n",
       "        vertical-align: top;\n",
       "    }\n",
       "\n",
       "    .dataframe thead th {\n",
       "        text-align: right;\n",
       "    }\n",
       "</style>\n",
       "<table border=\"1\" class=\"dataframe\">\n",
       "  <thead>\n",
       "    <tr style=\"text-align: right;\">\n",
       "      <th></th>\n",
       "      <th>Id</th>\n",
       "      <th>ProductId</th>\n",
       "      <th>UserId</th>\n",
       "      <th>ProfileName</th>\n",
       "      <th>HelpfulnessNumerator</th>\n",
       "      <th>HelpfulnessDenominator</th>\n",
       "      <th>Score</th>\n",
       "      <th>Time</th>\n",
       "      <th>Summary</th>\n",
       "      <th>Text</th>\n",
       "    </tr>\n",
       "  </thead>\n",
       "  <tbody>\n",
       "    <tr>\n",
       "      <th>0</th>\n",
       "      <td>1</td>\n",
       "      <td>B001E4KFG0</td>\n",
       "      <td>A3SGXH7AUHU8GW</td>\n",
       "      <td>delmartian</td>\n",
       "      <td>1</td>\n",
       "      <td>1</td>\n",
       "      <td>5</td>\n",
       "      <td>1303862400</td>\n",
       "      <td>Good Quality Dog Food</td>\n",
       "      <td>I have bought several of the Vitality canned d...</td>\n",
       "    </tr>\n",
       "    <tr>\n",
       "      <th>1</th>\n",
       "      <td>2</td>\n",
       "      <td>B00813GRG4</td>\n",
       "      <td>A1D87F6ZCVE5NK</td>\n",
       "      <td>dll pa</td>\n",
       "      <td>0</td>\n",
       "      <td>0</td>\n",
       "      <td>1</td>\n",
       "      <td>1346976000</td>\n",
       "      <td>Not as Advertised</td>\n",
       "      <td>Product arrived labeled as Jumbo Salted Peanut...</td>\n",
       "    </tr>\n",
       "    <tr>\n",
       "      <th>2</th>\n",
       "      <td>3</td>\n",
       "      <td>B000LQOCH0</td>\n",
       "      <td>ABXLMWJIXXAIN</td>\n",
       "      <td>Natalia Corres \"Natalia Corres\"</td>\n",
       "      <td>1</td>\n",
       "      <td>1</td>\n",
       "      <td>4</td>\n",
       "      <td>1219017600</td>\n",
       "      <td>\"Delight\" says it all</td>\n",
       "      <td>This is a confection that has been around a fe...</td>\n",
       "    </tr>\n",
       "    <tr>\n",
       "      <th>3</th>\n",
       "      <td>4</td>\n",
       "      <td>B000UA0QIQ</td>\n",
       "      <td>A395BORC6FGVXV</td>\n",
       "      <td>Karl</td>\n",
       "      <td>3</td>\n",
       "      <td>3</td>\n",
       "      <td>2</td>\n",
       "      <td>1307923200</td>\n",
       "      <td>Cough Medicine</td>\n",
       "      <td>If you are looking for the secret ingredient i...</td>\n",
       "    </tr>\n",
       "    <tr>\n",
       "      <th>4</th>\n",
       "      <td>5</td>\n",
       "      <td>B006K2ZZ7K</td>\n",
       "      <td>A1UQRSCLF8GW1T</td>\n",
       "      <td>Michael D. Bigham \"M. Wassir\"</td>\n",
       "      <td>0</td>\n",
       "      <td>0</td>\n",
       "      <td>5</td>\n",
       "      <td>1350777600</td>\n",
       "      <td>Great taffy</td>\n",
       "      <td>Great taffy at a great price.  There was a wid...</td>\n",
       "    </tr>\n",
       "  </tbody>\n",
       "</table>\n",
       "</div>"
      ],
      "text/plain": [
       "   Id   ProductId          UserId                      ProfileName  \\\n",
       "0   1  B001E4KFG0  A3SGXH7AUHU8GW                       delmartian   \n",
       "1   2  B00813GRG4  A1D87F6ZCVE5NK                           dll pa   \n",
       "2   3  B000LQOCH0   ABXLMWJIXXAIN  Natalia Corres \"Natalia Corres\"   \n",
       "3   4  B000UA0QIQ  A395BORC6FGVXV                             Karl   \n",
       "4   5  B006K2ZZ7K  A1UQRSCLF8GW1T    Michael D. Bigham \"M. Wassir\"   \n",
       "\n",
       "   HelpfulnessNumerator  HelpfulnessDenominator  Score        Time  \\\n",
       "0                     1                       1      5  1303862400   \n",
       "1                     0                       0      1  1346976000   \n",
       "2                     1                       1      4  1219017600   \n",
       "3                     3                       3      2  1307923200   \n",
       "4                     0                       0      5  1350777600   \n",
       "\n",
       "                 Summary                                               Text  \n",
       "0  Good Quality Dog Food  I have bought several of the Vitality canned d...  \n",
       "1      Not as Advertised  Product arrived labeled as Jumbo Salted Peanut...  \n",
       "2  \"Delight\" says it all  This is a confection that has been around a fe...  \n",
       "3         Cough Medicine  If you are looking for the secret ingredient i...  \n",
       "4            Great taffy  Great taffy at a great price.  There was a wid...  "
      ]
     },
     "metadata": {},
     "output_type": "display_data"
    }
   ],
   "source": [
    "con = sqlite3.connect(\"database.sqlite\")\n",
    "df = pd.read_sql_query(\"SELECT * from Reviews\", con)\n",
    "display(df.head())\n",
    "con.close()"
   ]
  },
  {
   "cell_type": "markdown",
   "id": "8401d536",
   "metadata": {},
   "source": [
    "**Convert using Columns into DataFrame**"
   ]
  },
  {
   "cell_type": "code",
   "execution_count": 4,
   "id": "ecd63072",
   "metadata": {},
   "outputs": [
    {
     "data": {
      "text/html": [
       "<div>\n",
       "<style scoped>\n",
       "    .dataframe tbody tr th:only-of-type {\n",
       "        vertical-align: middle;\n",
       "    }\n",
       "\n",
       "    .dataframe tbody tr th {\n",
       "        vertical-align: top;\n",
       "    }\n",
       "\n",
       "    .dataframe thead th {\n",
       "        text-align: right;\n",
       "    }\n",
       "</style>\n",
       "<table border=\"1\" class=\"dataframe\">\n",
       "  <thead>\n",
       "    <tr style=\"text-align: right;\">\n",
       "      <th></th>\n",
       "      <th>Text</th>\n",
       "      <th>Score</th>\n",
       "    </tr>\n",
       "  </thead>\n",
       "  <tbody>\n",
       "    <tr>\n",
       "      <th>0</th>\n",
       "      <td>I have bought several of the Vitality canned d...</td>\n",
       "      <td>5</td>\n",
       "    </tr>\n",
       "    <tr>\n",
       "      <th>1</th>\n",
       "      <td>Product arrived labeled as Jumbo Salted Peanut...</td>\n",
       "      <td>1</td>\n",
       "    </tr>\n",
       "    <tr>\n",
       "      <th>2</th>\n",
       "      <td>This is a confection that has been around a fe...</td>\n",
       "      <td>4</td>\n",
       "    </tr>\n",
       "    <tr>\n",
       "      <th>3</th>\n",
       "      <td>If you are looking for the secret ingredient i...</td>\n",
       "      <td>2</td>\n",
       "    </tr>\n",
       "    <tr>\n",
       "      <th>4</th>\n",
       "      <td>Great taffy at a great price.  There was a wid...</td>\n",
       "      <td>5</td>\n",
       "    </tr>\n",
       "    <tr>\n",
       "      <th>5</th>\n",
       "      <td>I got a wild hair for taffy and ordered this f...</td>\n",
       "      <td>4</td>\n",
       "    </tr>\n",
       "    <tr>\n",
       "      <th>6</th>\n",
       "      <td>This saltwater taffy had great flavors and was...</td>\n",
       "      <td>5</td>\n",
       "    </tr>\n",
       "    <tr>\n",
       "      <th>7</th>\n",
       "      <td>This taffy is so good.  It is very soft and ch...</td>\n",
       "      <td>5</td>\n",
       "    </tr>\n",
       "    <tr>\n",
       "      <th>8</th>\n",
       "      <td>Right now I'm mostly just sprouting this so my...</td>\n",
       "      <td>5</td>\n",
       "    </tr>\n",
       "    <tr>\n",
       "      <th>9</th>\n",
       "      <td>This is a very healthy dog food. Good for thei...</td>\n",
       "      <td>5</td>\n",
       "    </tr>\n",
       "  </tbody>\n",
       "</table>\n",
       "</div>"
      ],
      "text/plain": [
       "                                                Text  Score\n",
       "0  I have bought several of the Vitality canned d...      5\n",
       "1  Product arrived labeled as Jumbo Salted Peanut...      1\n",
       "2  This is a confection that has been around a fe...      4\n",
       "3  If you are looking for the secret ingredient i...      2\n",
       "4  Great taffy at a great price.  There was a wid...      5\n",
       "5  I got a wild hair for taffy and ordered this f...      4\n",
       "6  This saltwater taffy had great flavors and was...      5\n",
       "7  This taffy is so good.  It is very soft and ch...      5\n",
       "8  Right now I'm mostly just sprouting this so my...      5\n",
       "9  This is a very healthy dog food. Good for thei...      5"
      ]
     },
     "execution_count": 4,
     "metadata": {},
     "output_type": "execute_result"
    }
   ],
   "source": [
    "df = df[['Text', 'Score']]\n",
    "df.head(10)"
   ]
  },
  {
   "cell_type": "code",
   "execution_count": 5,
   "id": "377f3bda",
   "metadata": {},
   "outputs": [
    {
     "data": {
      "text/html": [
       "<div>\n",
       "<style scoped>\n",
       "    .dataframe tbody tr th:only-of-type {\n",
       "        vertical-align: middle;\n",
       "    }\n",
       "\n",
       "    .dataframe tbody tr th {\n",
       "        vertical-align: top;\n",
       "    }\n",
       "\n",
       "    .dataframe thead th {\n",
       "        text-align: right;\n",
       "    }\n",
       "</style>\n",
       "<table border=\"1\" class=\"dataframe\">\n",
       "  <thead>\n",
       "    <tr style=\"text-align: right;\">\n",
       "      <th></th>\n",
       "      <th>Text</th>\n",
       "      <th>Score</th>\n",
       "    </tr>\n",
       "  </thead>\n",
       "  <tbody>\n",
       "    <tr>\n",
       "      <th>0</th>\n",
       "      <td>I have bought several of the Vitality canned d...</td>\n",
       "      <td>positive</td>\n",
       "    </tr>\n",
       "    <tr>\n",
       "      <th>1</th>\n",
       "      <td>Product arrived labeled as Jumbo Salted Peanut...</td>\n",
       "      <td>negative</td>\n",
       "    </tr>\n",
       "    <tr>\n",
       "      <th>2</th>\n",
       "      <td>This is a confection that has been around a fe...</td>\n",
       "      <td>positive</td>\n",
       "    </tr>\n",
       "    <tr>\n",
       "      <th>3</th>\n",
       "      <td>If you are looking for the secret ingredient i...</td>\n",
       "      <td>negative</td>\n",
       "    </tr>\n",
       "    <tr>\n",
       "      <th>4</th>\n",
       "      <td>Great taffy at a great price.  There was a wid...</td>\n",
       "      <td>positive</td>\n",
       "    </tr>\n",
       "    <tr>\n",
       "      <th>...</th>\n",
       "      <td>...</td>\n",
       "      <td>...</td>\n",
       "    </tr>\n",
       "    <tr>\n",
       "      <th>568449</th>\n",
       "      <td>Great for sesame chicken..this is a good if no...</td>\n",
       "      <td>positive</td>\n",
       "    </tr>\n",
       "    <tr>\n",
       "      <th>568450</th>\n",
       "      <td>I'm disappointed with the flavor. The chocolat...</td>\n",
       "      <td>negative</td>\n",
       "    </tr>\n",
       "    <tr>\n",
       "      <th>568451</th>\n",
       "      <td>These stars are small, so you can give 10-15 o...</td>\n",
       "      <td>positive</td>\n",
       "    </tr>\n",
       "    <tr>\n",
       "      <th>568452</th>\n",
       "      <td>These are the BEST treats for training and rew...</td>\n",
       "      <td>positive</td>\n",
       "    </tr>\n",
       "    <tr>\n",
       "      <th>568453</th>\n",
       "      <td>I am very satisfied ,product is as advertised,...</td>\n",
       "      <td>positive</td>\n",
       "    </tr>\n",
       "  </tbody>\n",
       "</table>\n",
       "<p>568454 rows × 2 columns</p>\n",
       "</div>"
      ],
      "text/plain": [
       "                                                     Text     Score\n",
       "0       I have bought several of the Vitality canned d...  positive\n",
       "1       Product arrived labeled as Jumbo Salted Peanut...  negative\n",
       "2       This is a confection that has been around a fe...  positive\n",
       "3       If you are looking for the secret ingredient i...  negative\n",
       "4       Great taffy at a great price.  There was a wid...  positive\n",
       "...                                                   ...       ...\n",
       "568449  Great for sesame chicken..this is a good if no...  positive\n",
       "568450  I'm disappointed with the flavor. The chocolat...  negative\n",
       "568451  These stars are small, so you can give 10-15 o...  positive\n",
       "568452  These are the BEST treats for training and rew...  positive\n",
       "568453  I am very satisfied ,product is as advertised,...  positive\n",
       "\n",
       "[568454 rows x 2 columns]"
      ]
     },
     "execution_count": 5,
     "metadata": {},
     "output_type": "execute_result"
    }
   ],
   "source": [
    "# Convert Score into postive and negative through function\n",
    "def f(x):\n",
    "    if x >3:\n",
    "        return \"positive\"\n",
    "    else:\n",
    "        return \"negative\"\n",
    "df['Score']=df.Score.apply(f)\n",
    "df"
   ]
  },
  {
   "cell_type": "markdown",
   "id": "b47fa97b",
   "metadata": {},
   "source": [
    "**preprocessing Text Data**"
   ]
  },
  {
   "cell_type": "code",
   "execution_count": 6,
   "id": "442d8c3d",
   "metadata": {},
   "outputs": [],
   "source": [
    "#Tokenization of text\n",
    "tokenizer=ToktokTokenizer()\n",
    "#Setting English stopwords\n",
    "stopword_list=nltk.corpus.stopwords.words('english')"
   ]
  },
  {
   "cell_type": "code",
   "execution_count": 7,
   "id": "affffdd2",
   "metadata": {},
   "outputs": [],
   "source": [
    "#Removing the html strips\n",
    "def strip_html(text):\n",
    "    soup = BeautifulSoup(text, \"html.parser\")\n",
    "    return soup.get_text()\n",
    "\n",
    "#Removing the square brackets\n",
    "def remove_between_square_brackets(text):\n",
    "    return re.sub('\\[[^]]*\\]', '', text)\n",
    "#Removing the noisy text\n",
    "def denoise_text(text):\n",
    "    text = strip_html(text)\n",
    "    text = remove_between_square_brackets(text)\n",
    "    return text\n",
    "#Apply function on review column\n",
    "df['Text']=df['Text'].apply(denoise_text)"
   ]
  },
  {
   "cell_type": "code",
   "execution_count": 8,
   "id": "7f69afd7",
   "metadata": {},
   "outputs": [],
   "source": [
    "#Define function for removing special characters\n",
    "def remove_special_characters(text, remove_digits=True):\n",
    "    pattern=r'[^a-zA-z0-9\\s]'\n",
    "    text=re.sub(pattern,'',text)\n",
    "    return text\n",
    "df['Text'] = df['Text'].apply(remove_special_characters)"
   ]
  },
  {
   "cell_type": "code",
   "execution_count": 9,
   "id": "5f3ae77f",
   "metadata": {},
   "outputs": [],
   "source": [
    "stop=set(stopwords.words('english'))\n",
    "#removing the stopwords\n",
    "def remove_stopwords(text, is_lower_case=False):\n",
    "    tokens = tokenizer.tokenize(text)\n",
    "    tokens = [token.strip() for token in tokens]\n",
    "    if is_lower_case:\n",
    "        filtered_tokens = [token for token in tokens if token not in stopword_list]\n",
    "    else:\n",
    "        filtered_tokens = [token for token in tokens if token.lower() not in stopword_list]\n",
    "    filtered_text = ' '.join(filtered_tokens)    \n",
    "    return filtered_text\n",
    "#Apply function on review column\n",
    "df['Score']=df['Score'].apply(remove_stopwords)"
   ]
  },
  {
   "cell_type": "code",
   "execution_count": 10,
   "id": "94cf39c4",
   "metadata": {},
   "outputs": [],
   "source": [
    "# Convert data into traning and testing part\n",
    "x=df.iloc[:,0]\n",
    "y=df.iloc[:,1]\n",
    "x_train,x_test,y_train,y_test =train_test_split(x,y,test_size=0.3,random_state=0)"
   ]
  },
  {
   "cell_type": "code",
   "execution_count": 11,
   "id": "4b42d6c5",
   "metadata": {},
   "outputs": [
    {
     "name": "stdout",
     "output_type": "stream",
     "text": [
      "(397917, 50)\n",
      "(170537, 50)\n"
     ]
    }
   ],
   "source": [
    "# Apply CountVectorizer to convert Text data into numbers \n",
    "vectorizer = CountVectorizer(max_features=50)\n",
    "x_train=vectorizer.fit_transform(x_train).toarray()\n",
    "x_test=vectorizer.transform(x_test).toarray()\n",
    "print(x_train.shape)\n",
    "print(x_test.shape)"
   ]
  },
  {
   "cell_type": "markdown",
   "id": "20b4d559",
   "metadata": {},
   "source": [
    "**Apply Machine Learning Models**"
   ]
  },
  {
   "cell_type": "code",
   "execution_count": 11,
   "id": "a79aadf1",
   "metadata": {},
   "outputs": [],
   "source": [
    "#Function For Sentiment Scores\n",
    "def calculate_sentiment_scores(sentence):\n",
    "    sntmnt = analyzer.polarity_scores(sentence)['compound']\n",
    "    return(sntmnt)"
   ]
  },
  {
   "cell_type": "code",
   "execution_count": 17,
   "id": "9d80c871",
   "metadata": {},
   "outputs": [
    {
     "name": "stdout",
     "output_type": "stream",
     "text": [
      "[[ 10601  26837]\n",
      " [ 19265 113834]]\n",
      "              precision    recall  f1-score   support\n",
      "\n",
      "    negative       0.35      0.28      0.32     37438\n",
      "    positive       0.81      0.86      0.83    133099\n",
      "\n",
      "    accuracy                           0.73    170537\n",
      "   macro avg       0.58      0.57      0.57    170537\n",
      "weighted avg       0.71      0.73      0.72    170537\n",
      "\n"
     ]
    }
   ],
   "source": [
    "CF_RFC=confusion_matrix(y_test,y_pred)\n",
    "print(CF_RFC)\n",
    "CR_RFC=classification_report(y_test,y_pred)\n",
    "print(CR_RFC)"
   ]
  },
  {
   "cell_type": "markdown",
   "id": "0c0a1167",
   "metadata": {},
   "source": [
    "**Confussion Matrix And Classification Report Of Gaussian Naive-Bayes**"
   ]
  },
  {
   "cell_type": "code",
   "execution_count": 13,
   "id": "6a4dbc33",
   "metadata": {},
   "outputs": [
    {
     "name": "stdout",
     "output_type": "stream",
     "text": [
      "[[ 10601  26837]\n",
      " [ 19265 113834]]\n",
      "              precision    recall  f1-score   support\n",
      "\n",
      "    negative       0.35      0.28      0.32     37438\n",
      "    positive       0.81      0.86      0.83    133099\n",
      "\n",
      "    accuracy                           0.73    170537\n",
      "   macro avg       0.58      0.57      0.57    170537\n",
      "weighted avg       0.71      0.73      0.72    170537\n",
      "\n"
     ]
    }
   ],
   "source": [
    "CF=confusion_matrix(y_test,y_pred)\n",
    "print(CF)\n",
    "CR=classification_report(y_test,y_pred)\n",
    "print(CR)"
   ]
  },
  {
   "cell_type": "code",
   "execution_count": 14,
   "id": "1ff169d2",
   "metadata": {},
   "outputs": [
    {
     "data": {
      "text/plain": [
       "[Text(0.5, 1.0, 'Confusion Matrix OF GB')]"
      ]
     },
     "execution_count": 14,
     "metadata": {},
     "output_type": "execute_result"
    },
    {
     "data": {
      "image/png": "[encoded data removed]",
      "text/plain": [
       "<Figure size 432x288 with 2 Axes>"
      ]
     },
     "metadata": {
      "needs_background": "light"
     },
     "output_type": "display_data"
    }
   ],
   "source": [
    "# Confusion Matrix Graph of GB\n",
    "sns.heatmap(CF, annot=True).set(title='Confusion Matrix OF GB')"
   ]
  },
  {
   "cell_type": "code",
   "execution_count": 15,
   "id": "1cb91e85",
   "metadata": {},
   "outputs": [],
   "source": [
    "# Random Forest Classifier"
   ]
  },
  {
   "cell_type": "code",
   "execution_count": 16,
   "id": "428f155f",
   "metadata": {},
   "outputs": [
    {
     "name": "stdout",
     "output_type": "stream",
     "text": [
      "Accuracy score:  0.7296657030439142\n"
     ]
    }
   ],
   "source": [
    "clf=RandomForestClassifier()\n",
    "clf.fit(x_train,y_train)\n",
    "y_pred_rf=clf.predict(x_test)\n",
    "accucarcy_RFC=accuracy_score(y_test,y_pred)\n",
    "print(\"Accuracy score: \", accucarcy_RFC)"
   ]
  },
  {
   "cell_type": "markdown",
   "id": "7a3a0a5d",
   "metadata": {},
   "source": [
    "**Confussion Matrix And Classification Report Of RandomForestClassifier**"
   ]
  },
  {
   "cell_type": "markdown",
   "id": "ede5ade8",
   "metadata": {},
   "source": [
    "**Lexcion-Based Sentiment with Vader**"
   ]
  },
  {
   "cell_type": "code",
   "execution_count": 10,
   "id": "6d238a5a",
   "metadata": {},
   "outputs": [],
   "source": [
    "analyzer = SentimentIntensityAnalyzer()"
   ]
  },
  {
   "cell_type": "code",
   "execution_count": null,
   "id": "f1431efa",
   "metadata": {},
   "outputs": [],
   "source": [
    "#Calculate Sentiment Score\n",
    "start = time.time()\n",
    "\n",
    "eng_snt_score =  []\n",
    "\n",
    "for comment in df.Text.to_list():\n",
    "    snts_score = calculate_sentiment_scores(comment)\n",
    "    eng_snt_score.append(snts_score)\n",
    "    \n",
    "end = time.time()"
   ]
  },
  {
   "cell_type": "code",
   "execution_count": null,
   "id": "d782ff89",
   "metadata": {},
   "outputs": [],
   "source": [
    "#Add Sentiment Score into DataFrame\n",
    "df['sentiment_score'] = np.array(eng_snt_score)\n",
    "df.head()"
   ]
  },
  {
   "cell_type": "code",
   "execution_count": 185,
   "id": "e0488ea2",
   "metadata": {},
   "outputs": [],
   "source": [
    "#Fount Sentiment_Score labels into postive and Negative\n",
    "i = 0\n",
    "\n",
    "vader_sentiment = [ ]\n",
    "\n",
    "while(i<len(df)):\n",
    "    if ((df.iloc[i]['sentiment_score'] >= 0.05)):\n",
    "        vader_sentiment.append('positive')\n",
    "        i = i+1\n",
    "\n",
    "    else:\n",
    "        vader_sentiment.append('negative')\n",
    "        i = i+1"
   ]
  },
  {
   "cell_type": "code",
   "execution_count": 186,
   "id": "225d5fda",
   "metadata": {},
   "outputs": [],
   "source": [
    "#Add label into DataFrame\n",
    "df['vader_sentiment_labels'] = vader_sentiment"
   ]
  },
  {
   "cell_type": "code",
   "execution_count": 190,
   "id": "4dcd38a5",
   "metadata": {},
   "outputs": [
    {
     "data": {
      "text/html": [
       "<div>\n",
       "<style scoped>\n",
       "    .dataframe tbody tr th:only-of-type {\n",
       "        vertical-align: middle;\n",
       "    }\n",
       "\n",
       "    .dataframe tbody tr th {\n",
       "        vertical-align: top;\n",
       "    }\n",
       "\n",
       "    .dataframe thead th {\n",
       "        text-align: right;\n",
       "    }\n",
       "</style>\n",
       "<table border=\"1\" class=\"dataframe\">\n",
       "  <thead>\n",
       "    <tr style=\"text-align: right;\">\n",
       "      <th></th>\n",
       "      <th>Text</th>\n",
       "      <th>Score</th>\n",
       "      <th>sentiment_score</th>\n",
       "      <th>vader_sentiment_labels</th>\n",
       "      <th>actual_label</th>\n",
       "      <th>predicted_label</th>\n",
       "    </tr>\n",
       "  </thead>\n",
       "  <tbody>\n",
       "    <tr>\n",
       "      <th>0</th>\n",
       "      <td>I have bought several of the Vitality canned d...</td>\n",
       "      <td>positive</td>\n",
       "      <td>0.9441</td>\n",
       "      <td>positive</td>\n",
       "      <td>1</td>\n",
       "      <td>1</td>\n",
       "    </tr>\n",
       "    <tr>\n",
       "      <th>1</th>\n",
       "      <td>Product arrived labeled as Jumbo Salted Peanut...</td>\n",
       "      <td>negative</td>\n",
       "      <td>-0.5664</td>\n",
       "      <td>negative</td>\n",
       "      <td>-1</td>\n",
       "      <td>-1</td>\n",
       "    </tr>\n",
       "    <tr>\n",
       "      <th>2</th>\n",
       "      <td>This is a confection that has been around a fe...</td>\n",
       "      <td>positive</td>\n",
       "      <td>0.8138</td>\n",
       "      <td>positive</td>\n",
       "      <td>1</td>\n",
       "      <td>1</td>\n",
       "    </tr>\n",
       "    <tr>\n",
       "      <th>3</th>\n",
       "      <td>If you are looking for the secret ingredient i...</td>\n",
       "      <td>negative</td>\n",
       "      <td>0.4404</td>\n",
       "      <td>positive</td>\n",
       "      <td>-1</td>\n",
       "      <td>1</td>\n",
       "    </tr>\n",
       "    <tr>\n",
       "      <th>4</th>\n",
       "      <td>Great taffy at a great price  There was a wide...</td>\n",
       "      <td>positive</td>\n",
       "      <td>0.9468</td>\n",
       "      <td>positive</td>\n",
       "      <td>1</td>\n",
       "      <td>1</td>\n",
       "    </tr>\n",
       "  </tbody>\n",
       "</table>\n",
       "</div>"
      ],
      "text/plain": [
       "                                                Text     Score  \\\n",
       "0  I have bought several of the Vitality canned d...  positive   \n",
       "1  Product arrived labeled as Jumbo Salted Peanut...  negative   \n",
       "2  This is a confection that has been around a fe...  positive   \n",
       "3  If you are looking for the secret ingredient i...  negative   \n",
       "4  Great taffy at a great price  There was a wide...  positive   \n",
       "\n",
       "   sentiment_score vader_sentiment_labels  actual_label  predicted_label  \n",
       "0           0.9441               positive             1                1  \n",
       "1          -0.5664               negative            -1               -1  \n",
       "2           0.8138               positive             1                1  \n",
       "3           0.4404               positive            -1                1  \n",
       "4           0.9468               positive             1                1  "
      ]
     },
     "execution_count": 190,
     "metadata": {},
     "output_type": "execute_result"
    }
   ],
   "source": [
    "#Add to new column in DataFrame \n",
    "df['actual_label'] = df['Score'].map({'positive': 1, 'negative':-1})\n",
    "df['predicted_label'] = df['vader_sentiment_labels'].map({'positive': 1, 'negative':-1})\n",
    "\n",
    "df.head()"
   ]
  },
  {
   "cell_type": "code",
   "execution_count": 191,
   "id": "5c936a5c",
   "metadata": {},
   "outputs": [],
   "source": [
    "y_act = df['actual_label'].values\n",
    "y_pred = df['predicted_label'].values"
   ]
  },
  {
   "cell_type": "code",
   "execution_count": null,
   "id": "af15a76e",
   "metadata": {},
   "outputs": [],
   "source": [
    "# Accuracy Score"
   ]
  },
  {
   "cell_type": "code",
   "execution_count": 210,
   "id": "b65752dc",
   "metadata": {},
   "outputs": [
    {
     "name": "stdout",
     "output_type": "stream",
     "text": [
      "0.8216724660218769\n"
     ]
    }
   ],
   "source": [
    "acc_lb=accuracy_score(y_act, y_pred)\n",
    "print(\"Accuracy score:\", acc_lb)"
   ]
  },
  {
   "cell_type": "markdown",
   "id": "c21b7719",
   "metadata": {},
   "source": [
    "**Confussion Matrix And Classification Report Of Lexcion-Based Sentiment with Vader**"
   ]
  },
  {
   "cell_type": "code",
   "execution_count": 155,
   "id": "788ee454",
   "metadata": {},
   "outputs": [
    {
     "name": "stdout",
     "output_type": "stream",
     "text": [
      "[[ 46539  78138]\n",
      " [ 23233 420544]]\n",
      "              precision    recall  f1-score   support\n",
      "\n",
      "          -1       0.67      0.37      0.48    124677\n",
      "           1       0.84      0.95      0.89    443777\n",
      "\n",
      "    accuracy                           0.82    568454\n",
      "   macro avg       0.76      0.66      0.69    568454\n",
      "weighted avg       0.80      0.82      0.80    568454\n",
      "\n"
     ]
    }
   ],
   "source": [
    "CF_LB=confusion_matrix(y_act,y_pred)\n",
    "print(CF_LB)\n",
    "CR_LB=classification_report(y_act,y_pred)\n",
    "print(CR_LB)"
   ]
  },
  {
   "cell_type": "code",
   "execution_count": 88,
   "id": "3f9769c9",
   "metadata": {},
   "outputs": [
    {
     "data": {
      "text/plain": [
       "[Text(0.5, 1.0, 'Confusion Matrix OF LB')]"
      ]
     },
     "execution_count": 88,
     "metadata": {},
     "output_type": "execute_result"
    },
    {
     "data": {
      "image/png": "[encoded data removed]",
      "text/plain": [
       "<Figure size 432x288 with 2 Axes>"
      ]
     },
     "metadata": {
      "needs_background": "light"
     },
     "output_type": "display_data"
    }
   ],
   "source": [
    "#Graph of Confusion Matrix of LB\n",
    "sns.heatmap(CF_LB, annot=True).set(title='Confusion Matrix OF LB')"
   ]
  },
  {
   "cell_type": "markdown",
   "id": "dbafc9b1",
   "metadata": {},
   "source": [
    "**Artifical Neural Network**"
   ]
  },
  {
   "cell_type": "code",
   "execution_count": 205,
   "id": "5fc74cfc",
   "metadata": {},
   "outputs": [],
   "source": [
    "#Train test splition for ANN\n",
    "x=df.iloc[:,0]\n",
    "y=df.iloc[:,1]\n",
    "X_train,X_test,y_train,y_test=train_test_split(x,y,test_size=0.3,random_state=0)"
   ]
  },
  {
   "cell_type": "code",
   "execution_count": 206,
   "id": "0011e0a4",
   "metadata": {},
   "outputs": [],
   "source": [
    "#Apply CountVectorizer on ANN training data"
   ]
  },
  {
   "cell_type": "code",
   "execution_count": 207,
   "id": "cc08eece",
   "metadata": {},
   "outputs": [
    {
     "name": "stdout",
     "output_type": "stream",
     "text": [
      "[[1 0 0 ... 0 0 0]\n",
      " [0 2 3 ... 0 0 1]\n",
      " [1 3 1 ... 0 0 0]\n",
      " ...\n",
      " [1 2 1 ... 0 2 2]\n",
      " [0 3 2 ... 1 0 7]\n",
      " [0 0 0 ... 0 1 0]]\n",
      "[[0 0 1 ... 0 0 0]\n",
      " [0 1 0 ... 0 0 0]\n",
      " [1 3 0 ... 1 2 0]\n",
      " ...\n",
      " [0 2 2 ... 0 0 2]\n",
      " [0 0 0 ... 0 0 0]\n",
      " [0 3 0 ... 1 0 0]]\n"
     ]
    }
   ],
   "source": [
    "vectorizer = CountVectorizer(max_features=50)\n",
    "X_train=vectorizer.fit_transform(X_train).toarray()\n",
    "X_test=vectorizer.transform(X_test).toarray()\n",
    "print(X_train)\n",
    "print(X_test)"
   ]
  },
  {
   "cell_type": "code",
   "execution_count": 198,
   "id": "02a01f57",
   "metadata": {},
   "outputs": [],
   "source": [
    "#reshape data from 3-D to 2-D array\n",
    "X_train = X_train.reshape(397917, 50)\n",
    "X_test = X_test.reshape(170537, 50)"
   ]
  },
  {
   "cell_type": "code",
   "execution_count": 208,
   "id": "4ba5fc62",
   "metadata": {},
   "outputs": [],
   "source": [
    "#apply label Encoder For testing\n",
    "le = LabelEncoder()\n",
    "y_train = le.fit_transform(y_train)\n",
    "y_test = le.transform(y_test)"
   ]
  },
  {
   "cell_type": "code",
   "execution_count": 209,
   "id": "12535c3e",
   "metadata": {},
   "outputs": [
    {
     "name": "stdout",
     "output_type": "stream",
     "text": [
      "Model: \"sequential_25\"\n",
      "_________________________________________________________________\n",
      " Layer (type)                Output Shape              Param #   \n",
      "=================================================================\n",
      " dense_41 (Dense)            (None, 128)               6528      \n",
      "                                                                 \n",
      " dense_42 (Dense)            (None, 2)                 258       \n",
      "                                                                 \n",
      "=================================================================\n",
      "Total params: 6,786\n",
      "Trainable params: 6,786\n",
      "Non-trainable params: 0\n",
      "_________________________________________________________________\n"
     ]
    }
   ],
   "source": [
    "#initializing ANN model\n",
    "classifier_e25 = Sequential()\n",
    "#add 1st hidden layer\n",
    "classifier_e25.add(Dense(input_dim = X_train.shape[1], units = 128, kernel_initializer='uniform', activation='relu'))\n",
    "#add output layer\n",
    "classifier_e25.add(Dense(units = 2, kernel_initializer='uniform', activation='softmax'))\n",
    "#compile the neural network\n",
    "classifier_e25.compile(optimizer='adam', loss='CategoricalCrossentropy', metrics=['accuracy'])\n",
    "#model summary\n",
    "classifier_e25.summary()"
   ]
  },
  {
   "cell_type": "code",
   "execution_count": 138,
   "id": "48cc3d49",
   "metadata": {},
   "outputs": [
    {
     "name": "stdout",
     "output_type": "stream",
     "text": [
      "Epoch 1/10\n",
      "12435/12435 [==============================] - 21s 2ms/step - loss: 0.4331 - accuracy: 0.8017\n",
      "Epoch 2/10\n",
      "12435/12435 [==============================] - 20s 2ms/step - loss: 0.4220 - accuracy: 0.8066\n",
      "Epoch 3/10\n",
      "12435/12435 [==============================] - 20s 2ms/step - loss: 0.4170 - accuracy: 0.8087\n",
      "Epoch 4/10\n",
      "12435/12435 [==============================] - 22s 2ms/step - loss: 0.4131 - accuracy: 0.8106\n",
      "Epoch 5/10\n",
      "12435/12435 [==============================] - 20s 2ms/step - loss: 0.4103 - accuracy: 0.8123\n",
      "Epoch 6/10\n",
      "12435/12435 [==============================] - 20s 2ms/step - loss: 0.4080 - accuracy: 0.8139\n",
      "Epoch 7/10\n",
      "12435/12435 [==============================] - 20s 2ms/step - loss: 0.4058 - accuracy: 0.8153\n",
      "Epoch 8/10\n",
      "12435/12435 [==============================] - 20s 2ms/step - loss: 0.4045 - accuracy: 0.8163\n",
      "Epoch 9/10\n",
      "12435/12435 [==============================] - 20s 2ms/step - loss: 0.4031 - accuracy: 0.8169\n",
      "Epoch 10/10\n",
      "12435/12435 [==============================] - 20s 2ms/step - loss: 0.4019 - accuracy: 0.8172\n"
     ]
    }
   ],
   "source": [
    "#fit training dataset into the model\n",
    "classifier_e25_fit = classifier_e25.fit(X_train, to_categorical(y_train), epochs=10)"
   ]
  },
  {
   "cell_type": "code",
   "execution_count": 139,
   "id": "d92caa72",
   "metadata": {},
   "outputs": [
    {
     "name": "stdout",
     "output_type": "stream",
     "text": [
      "5330/5330 [==============================] - 8s 1ms/step - loss: 0.4121 - accuracy: 0.8124\n"
     ]
    }
   ],
   "source": [
    "#evaluate the model for testing dataset\n",
    "test_loss_e25 = classifier_e25.evaluate(X_test, to_categorical(y_test))"
   ]
  },
  {
   "cell_type": "code",
   "execution_count": 140,
   "id": "92a6949f",
   "metadata": {},
   "outputs": [
    {
     "name": "stdout",
     "output_type": "stream",
     "text": [
      "test auc: 0.8119319660564459\n"
     ]
    }
   ],
   "source": [
    "#Predict test accuracy\n",
    "output_test = classifier_e25.predict(X_test)\n",
    "print(\"test auc:\", roc_auc_score(y_test,output_test[:,1]))"
   ]
  },
  {
   "cell_type": "code",
   "execution_count": null,
   "id": "8b280d7a",
   "metadata": {},
   "outputs": [],
   "source": [
    "# accuracy: (tp + tn) / (p + n)\n",
    "accuracy = accuracy_score(y_test,output_test)\n",
    "print('Accuracy of ANN: %f' % accuracy)"
   ]
  },
  {
   "cell_type": "markdown",
   "id": "0e629557",
   "metadata": {},
   "source": [
    "**Accuracy Camparsion Comparison Between GuassinNB,RandomForestClassifier,Lexicon-Based And ArtificalNeuralNetwork**"
   ]
  },
  {
   "cell_type": "code",
   "execution_count": 213,
   "id": "380d3d4c",
   "metadata": {},
   "outputs": [
    {
     "data": {
      "image/png": "[encoded data removed]",
      "text/plain": [
       "<Figure size 432x288 with 1 Axes>"
      ]
     },
     "metadata": {
      "needs_background": "light"
     },
     "output_type": "display_data"
    }
   ],
   "source": [
    "data = {'GB': acc, 'RC': accucarcy_RFC,'LB':acc_lb,'ANN':accuracy}\n",
    "names = list(data.keys())\n",
    "values = list(data.values())\n",
    "plt.bar(range(len(data)), values, tick_label=names,color ='Blue',width = 0.4)\n",
    "plt.xlabel('Models')\n",
    "plt.ylabel('Accuracy')\n",
    "plt.title(\"Accuracy Camparsion Comparison Between GuassinNB RandomForestClassifier Lexicon-Based And ArtificalNeuralNetwork\")\n",
    "plt.show()"
   ]
  },
  {
   "cell_type": "code",
   "execution_count": null,
   "id": "b5b4ecfe",
   "metadata": {},
   "outputs": [],
   "source": []
  }
 ],
 "metadata": {
  "kernelspec": {
   "display_name": "Python 3 (ipykernel)",
   "language": "python",
   "name": "python3"
  },
  "language_info": {
   "codemirror_mode": {
    "name": "ipython",
    "version": 3
   },
   "file_extension": ".py",
   "mimetype": "text/x-python",
   "name": "python",
   "nbconvert_exporter": "python",
   "pygments_lexer": "ipython3",
   "version": "3.9.7"
  }
 },
 "nbformat": 4,
 "nbformat_minor": 5
}
